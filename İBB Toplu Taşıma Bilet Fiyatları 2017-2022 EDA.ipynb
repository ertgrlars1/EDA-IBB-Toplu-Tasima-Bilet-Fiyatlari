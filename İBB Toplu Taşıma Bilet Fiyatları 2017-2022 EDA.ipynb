{
 "cells": [
  {
   "cell_type": "code",
   "execution_count": 78,
   "id": "85895b47",
   "metadata": {},
   "outputs": [],
   "source": [
    "import pandas as pd\n",
    "import numpy as np\n",
    "import matplotlib.pyplot as plt\n",
    "import seaborn as sns\n",
    "import warnings\n",
    "warnings.filterwarnings(\"ignore\")\n",
    "plt.rcParams[\"figure.figsize\"] = (6,4)\n",
    "plt.rcParams['figure.dpi'] = 70"
   ]
  },
  {
   "cell_type": "code",
   "execution_count": 112,
   "id": "24cf8442",
   "metadata": {},
   "outputs": [
    {
     "data": {
      "text/html": [
       "<div>\n",
       "<style scoped>\n",
       "    .dataframe tbody tr th:only-of-type {\n",
       "        vertical-align: middle;\n",
       "    }\n",
       "\n",
       "    .dataframe tbody tr th {\n",
       "        vertical-align: top;\n",
       "    }\n",
       "\n",
       "    .dataframe thead th {\n",
       "        text-align: right;\n",
       "    }\n",
       "</style>\n",
       "<table border=\"1\" class=\"dataframe\">\n",
       "  <thead>\n",
       "    <tr style=\"text-align: right;\">\n",
       "      <th></th>\n",
       "      <th>Yıl</th>\n",
       "      <th>Bilet Adı</th>\n",
       "      <th>Fiyatı (₺)</th>\n",
       "    </tr>\n",
       "  </thead>\n",
       "  <tbody>\n",
       "    <tr>\n",
       "      <th>0</th>\n",
       "      <td>2017</td>\n",
       "      <td>Tam</td>\n",
       "      <td>2.60</td>\n",
       "    </tr>\n",
       "    <tr>\n",
       "      <th>1</th>\n",
       "      <td>2017</td>\n",
       "      <td>Öğrenci</td>\n",
       "      <td>1.25</td>\n",
       "    </tr>\n",
       "    <tr>\n",
       "      <th>2</th>\n",
       "      <td>2017</td>\n",
       "      <td>Sosyal</td>\n",
       "      <td>1.85</td>\n",
       "    </tr>\n",
       "    <tr>\n",
       "      <th>3</th>\n",
       "      <td>2018</td>\n",
       "      <td>Tam</td>\n",
       "      <td>2.60</td>\n",
       "    </tr>\n",
       "    <tr>\n",
       "      <th>4</th>\n",
       "      <td>2018</td>\n",
       "      <td>Öğrenci</td>\n",
       "      <td>1.25</td>\n",
       "    </tr>\n",
       "    <tr>\n",
       "      <th>5</th>\n",
       "      <td>2018</td>\n",
       "      <td>Sosyal</td>\n",
       "      <td>1.85</td>\n",
       "    </tr>\n",
       "    <tr>\n",
       "      <th>6</th>\n",
       "      <td>2019</td>\n",
       "      <td>Tam</td>\n",
       "      <td>3.50</td>\n",
       "    </tr>\n",
       "    <tr>\n",
       "      <th>7</th>\n",
       "      <td>2019</td>\n",
       "      <td>Öğrenci</td>\n",
       "      <td>1.70</td>\n",
       "    </tr>\n",
       "    <tr>\n",
       "      <th>8</th>\n",
       "      <td>2019</td>\n",
       "      <td>Sosyal</td>\n",
       "      <td>2.50</td>\n",
       "    </tr>\n",
       "    <tr>\n",
       "      <th>9</th>\n",
       "      <td>2020</td>\n",
       "      <td>Tam</td>\n",
       "      <td>3.50</td>\n",
       "    </tr>\n",
       "    <tr>\n",
       "      <th>10</th>\n",
       "      <td>2020</td>\n",
       "      <td>Öğrenci</td>\n",
       "      <td>1.70</td>\n",
       "    </tr>\n",
       "    <tr>\n",
       "      <th>11</th>\n",
       "      <td>2020</td>\n",
       "      <td>Sosyal</td>\n",
       "      <td>2.50</td>\n",
       "    </tr>\n",
       "    <tr>\n",
       "      <th>12</th>\n",
       "      <td>2021</td>\n",
       "      <td>Tam</td>\n",
       "      <td>3.50</td>\n",
       "    </tr>\n",
       "    <tr>\n",
       "      <th>13</th>\n",
       "      <td>2021</td>\n",
       "      <td>Öğrenci</td>\n",
       "      <td>1.70</td>\n",
       "    </tr>\n",
       "    <tr>\n",
       "      <th>14</th>\n",
       "      <td>2021</td>\n",
       "      <td>Sosyal</td>\n",
       "      <td>2.50</td>\n",
       "    </tr>\n",
       "    <tr>\n",
       "      <th>15</th>\n",
       "      <td>2022</td>\n",
       "      <td>Tam</td>\n",
       "      <td>7.67</td>\n",
       "    </tr>\n",
       "    <tr>\n",
       "      <th>16</th>\n",
       "      <td>2022</td>\n",
       "      <td>Öğrenci</td>\n",
       "      <td>3.74</td>\n",
       "    </tr>\n",
       "    <tr>\n",
       "      <th>17</th>\n",
       "      <td>2022</td>\n",
       "      <td>Sosyal</td>\n",
       "      <td>5.49</td>\n",
       "    </tr>\n",
       "  </tbody>\n",
       "</table>\n",
       "</div>"
      ],
      "text/plain": [
       "     Yıl Bilet Adı  Fiyatı (₺)\n",
       "0   2017       Tam        2.60\n",
       "1   2017   Öğrenci        1.25\n",
       "2   2017    Sosyal        1.85\n",
       "3   2018       Tam        2.60\n",
       "4   2018   Öğrenci        1.25\n",
       "5   2018    Sosyal        1.85\n",
       "6   2019       Tam        3.50\n",
       "7   2019   Öğrenci        1.70\n",
       "8   2019    Sosyal        2.50\n",
       "9   2020       Tam        3.50\n",
       "10  2020   Öğrenci        1.70\n",
       "11  2020    Sosyal        2.50\n",
       "12  2021       Tam        3.50\n",
       "13  2021   Öğrenci        1.70\n",
       "14  2021    Sosyal        2.50\n",
       "15  2022       Tam        7.67\n",
       "16  2022   Öğrenci        3.74\n",
       "17  2022    Sosyal        5.49"
      ]
     },
     "execution_count": 112,
     "metadata": {},
     "output_type": "execute_result"
    }
   ],
   "source": [
    "df = pd.read_excel(\"toplu-tama-bilet-fiyatlar-2017-2022.xlsx\")[:-6]\n",
    "df"
   ]
  },
  {
   "cell_type": "markdown",
   "id": "d1bd91d8",
   "metadata": {},
   "source": [
    "# Ön Bilgi"
   ]
  },
  {
   "cell_type": "markdown",
   "id": "60369468",
   "metadata": {},
   "source": [
    "**Yıl**:\t sütününda 2017 ve 2022 yılları bulunmaktadır\n",
    "\n",
    "**Bilet Adı**: sütününde Öğrenci, Tam, Sosyal ve Öğrenci kartı bilgileri\n",
    "\n",
    "**Fiyatı (₺)**: sütununda yıllara ve bilet bilet adına göre değişen bilgiler bulunmaktadır"
   ]
  },
  {
   "cell_type": "markdown",
   "id": "dfbd2c85",
   "metadata": {},
   "source": [
    "# Genel Bilgiler"
   ]
  },
  {
   "cell_type": "code",
   "execution_count": 80,
   "id": "9fca4f57",
   "metadata": {},
   "outputs": [
    {
     "name": "stdout",
     "output_type": "stream",
     "text": [
      "<class 'pandas.core.frame.DataFrame'>\n",
      "RangeIndex: 18 entries, 0 to 17\n",
      "Data columns (total 3 columns):\n",
      " #   Column      Non-Null Count  Dtype  \n",
      "---  ------      --------------  -----  \n",
      " 0   Yıl         18 non-null     int64  \n",
      " 1   Bilet Adı   18 non-null     object \n",
      " 2   Fiyatı (₺)  18 non-null     float64\n",
      "dtypes: float64(1), int64(1), object(1)\n",
      "memory usage: 560.0+ bytes\n"
     ]
    }
   ],
   "source": [
    "df.info()"
   ]
  },
  {
   "cell_type": "code",
   "execution_count": 81,
   "id": "58e94e6a",
   "metadata": {},
   "outputs": [
    {
     "data": {
      "text/plain": [
       "(18, 3)"
      ]
     },
     "execution_count": 81,
     "metadata": {},
     "output_type": "execute_result"
    }
   ],
   "source": [
    "df.shape"
   ]
  },
  {
   "cell_type": "code",
   "execution_count": 82,
   "id": "f221f490",
   "metadata": {},
   "outputs": [
    {
     "data": {
      "text/plain": [
       "Yıl           0\n",
       "Bilet Adı     0\n",
       "Fiyatı (₺)    0\n",
       "dtype: int64"
      ]
     },
     "execution_count": 82,
     "metadata": {},
     "output_type": "execute_result"
    }
   ],
   "source": [
    "df.isnull().sum()"
   ]
  },
  {
   "cell_type": "markdown",
   "id": "f32d55a6",
   "metadata": {},
   "source": [
    "# Düzenlemeler"
   ]
  },
  {
   "cell_type": "markdown",
   "id": "ac3b6a73",
   "metadata": {},
   "source": [
    "**Yıl**, **Bilet Adı**, **Fiyatı (₺)** sütünlarını\n",
    "\n",
    "**yil**, **bilet_adi**, **fiyati** ile değiştirelim"
   ]
  },
  {
   "cell_type": "code",
   "execution_count": 113,
   "id": "cd490143",
   "metadata": {},
   "outputs": [],
   "source": [
    "df.columns = [\"yil\", \"bilet_adi\", \"fiyati\"]"
   ]
  },
  {
   "cell_type": "code",
   "execution_count": 7,
   "id": "747986a7",
   "metadata": {},
   "outputs": [
    {
     "data": {
      "text/plain": [
       "Index(['yil', 'bilet_adi', 'fiyati'], dtype='object')"
      ]
     },
     "execution_count": 7,
     "metadata": {},
     "output_type": "execute_result"
    }
   ],
   "source": [
    "df.columns"
   ]
  },
  {
   "cell_type": "code",
   "execution_count": 84,
   "id": "bb89a562",
   "metadata": {},
   "outputs": [
    {
     "data": {
      "text/plain": [
       "array([2017, 2018, 2019, 2020, 2021, 2022], dtype=int64)"
      ]
     },
     "execution_count": 84,
     "metadata": {},
     "output_type": "execute_result"
    }
   ],
   "source": [
    "df.yil.unique()"
   ]
  },
  {
   "cell_type": "code",
   "execution_count": 85,
   "id": "6b02b8e5",
   "metadata": {},
   "outputs": [
    {
     "data": {
      "text/plain": [
       "array(['Tam', 'Öğrenci', 'Sosyal'], dtype=object)"
      ]
     },
     "execution_count": 85,
     "metadata": {},
     "output_type": "execute_result"
    }
   ],
   "source": [
    "df.bilet_adi.unique()"
   ]
  },
  {
   "cell_type": "markdown",
   "id": "8bc9c1b6",
   "metadata": {},
   "source": [
    "**Bakacak olursak Öğrenci ve Öğrenci Kartı aslında aynı anlama geliyor daha düzenli olması açısından Öğrenci Kartı değerini öğrenci ile değiştirelim**"
   ]
  },
  {
   "cell_type": "code",
   "execution_count": 114,
   "id": "bbc347c9",
   "metadata": {},
   "outputs": [],
   "source": [
    "df.replace(\"Öğrenci Kartı\", \"Öğrenci\", inplace = True)"
   ]
  },
  {
   "cell_type": "code",
   "execution_count": 87,
   "id": "dc213728",
   "metadata": {},
   "outputs": [
    {
     "data": {
      "text/plain": [
       "array(['Tam', 'Öğrenci', 'Sosyal'], dtype=object)"
      ]
     },
     "execution_count": 87,
     "metadata": {},
     "output_type": "execute_result"
    }
   ],
   "source": [
    "df.bilet_adi.unique()"
   ]
  },
  {
   "cell_type": "markdown",
   "id": "2e58d355",
   "metadata": {},
   "source": [
    "# Bilet Fiyatlarının Değişimi"
   ]
  },
  {
   "cell_type": "markdown",
   "id": "60acfc28",
   "metadata": {},
   "source": [
    "**bilet adı'nı baz alarak yıllara göre fıyat degısıklıgını gozlemleyelım**"
   ]
  },
  {
   "cell_type": "code",
   "execution_count": 88,
   "id": "5e19f419",
   "metadata": {},
   "outputs": [
    {
     "data": {
      "text/plain": [
       "yil   bilet_adi\n",
       "2017  Sosyal       1.85\n",
       "      Tam          2.60\n",
       "      Öğrenci      1.25\n",
       "2018  Sosyal       1.85\n",
       "      Tam          2.60\n",
       "      Öğrenci      1.25\n",
       "2019  Sosyal       2.50\n",
       "      Tam          3.50\n",
       "      Öğrenci      1.70\n",
       "2020  Sosyal       2.50\n",
       "      Tam          3.50\n",
       "      Öğrenci      1.70\n",
       "2021  Sosyal       2.50\n",
       "      Tam          3.50\n",
       "      Öğrenci      1.70\n",
       "2022  Sosyal       5.49\n",
       "      Tam          7.67\n",
       "      Öğrenci      3.74\n",
       "Name: fiyati, dtype: float64"
      ]
     },
     "execution_count": 88,
     "metadata": {},
     "output_type": "execute_result"
    }
   ],
   "source": [
    "df.groupby([\"yil\", \"bilet_adi\"]).fiyati.sum()"
   ]
  },
  {
   "cell_type": "code",
   "execution_count": 89,
   "id": "3f1db03d",
   "metadata": {},
   "outputs": [
    {
     "data": {
      "image/png": "[encoded data removed]",
      "text/plain": [
       "<Figure size 1050x350 with 3 Axes>"
      ]
     },
     "metadata": {},
     "output_type": "display_data"
    }
   ],
   "source": [
    "g = sns.catplot(kind = \"point\",\n",
    "            col = \"bilet_adi\",\n",
    "            data = df,\n",
    "            x = \"yil\",\n",
    "            y = \"fiyati\")\n",
    "g.set_titles(col_template = \"{col_name} Bilet\")\n",
    "g.set_ylabels(\"Bilet Fiyatı\")\n",
    "g.fig.suptitle(\"Yıllara ve Bilet Adı'na göre Fiyat Değişimi\", fontsize = 15, color = \"red\")\n",
    "g.fig.subplots_adjust(top = 0.8);"
   ]
  },
  {
   "cell_type": "code",
   "execution_count": 214,
   "id": "e3b7748a",
   "metadata": {},
   "outputs": [
    {
     "data": {
      "image/png": "[encoded data removed]",
      "text/plain": [
       "<Figure size 1050x350 with 1 Axes>"
      ]
     },
     "metadata": {},
     "output_type": "display_data"
    }
   ],
   "source": [
    "plt.figure(figsize = (15,5))\n",
    "sns.lineplot(x = df.yil, y = df.fiyati, \n",
    "             hue = df.bilet_adi, \n",
    "             marker = \"o\", markerfacecolor = \"r\", markersize = 10)\n",
    "plt.legend(title = (\"Bilet Adı\"))\n",
    "plt.ylabel(\"Bilet Fiyatı\");"
   ]
  },
  {
   "cell_type": "code",
   "execution_count": 190,
   "id": "0902f50c",
   "metadata": {},
   "outputs": [
    {
     "data": {
      "image/png": "[encoded data removed]",
      "text/plain": [
       "<Figure size 1050x350 with 3 Axes>"
      ]
     },
     "metadata": {},
     "output_type": "display_data"
    }
   ],
   "source": [
    "g = sns.catplot(kind = \"bar\", \n",
    "                col = \"bilet_adi\",\n",
    "                data = df, \n",
    "                x = \"yil\", \n",
    "                y = \"fiyati\")\n",
    "g.set_titles(col_template = \"{col_name} Bilet\")\n",
    "g.set_ylabels(\"Bilet Fiyatı\")\n",
    "g.fig.suptitle(\"Yıllara ve Bilet Adı'na göre Fiyat Değişimi\", fontsize = 15, color = \"red\")\n",
    "g.fig.subplots_adjust(top = 0.8)\n",
    "\n",
    "for ax in g.axes.ravel() :\n",
    "    for i in ax.containers :\n",
    "        ax.bar_label(i);"
   ]
  },
  {
   "cell_type": "markdown",
   "id": "81653689",
   "metadata": {},
   "source": [
    "**Görülebileceği üzere 2021 yılı fiyatları ile 2022 yılı fiyatlarının arasında ciddi bir artış var. Şimdi de yıllara ve bilet adına göre zam oranlarına bakalım**"
   ]
  },
  {
   "cell_type": "code",
   "execution_count": 167,
   "id": "5a86aaf4",
   "metadata": {},
   "outputs": [
    {
     "data": {
      "text/html": [
       "<div>\n",
       "<style scoped>\n",
       "    .dataframe tbody tr th:only-of-type {\n",
       "        vertical-align: middle;\n",
       "    }\n",
       "\n",
       "    .dataframe tbody tr th {\n",
       "        vertical-align: top;\n",
       "    }\n",
       "\n",
       "    .dataframe thead th {\n",
       "        text-align: right;\n",
       "    }\n",
       "</style>\n",
       "<table border=\"1\" class=\"dataframe\">\n",
       "  <thead>\n",
       "    <tr style=\"text-align: right;\">\n",
       "      <th></th>\n",
       "      <th>yil</th>\n",
       "      <th>bilet_adi</th>\n",
       "      <th>fiyati</th>\n",
       "      <th>artıs_oranı</th>\n",
       "    </tr>\n",
       "  </thead>\n",
       "  <tbody>\n",
       "    <tr>\n",
       "      <th>0</th>\n",
       "      <td>2017</td>\n",
       "      <td>Tam</td>\n",
       "      <td>2.60</td>\n",
       "      <td>NaN</td>\n",
       "    </tr>\n",
       "    <tr>\n",
       "      <th>1</th>\n",
       "      <td>2017</td>\n",
       "      <td>Öğrenci</td>\n",
       "      <td>1.25</td>\n",
       "      <td>NaN</td>\n",
       "    </tr>\n",
       "    <tr>\n",
       "      <th>2</th>\n",
       "      <td>2017</td>\n",
       "      <td>Sosyal</td>\n",
       "      <td>1.85</td>\n",
       "      <td>NaN</td>\n",
       "    </tr>\n",
       "    <tr>\n",
       "      <th>3</th>\n",
       "      <td>2018</td>\n",
       "      <td>Tam</td>\n",
       "      <td>2.60</td>\n",
       "      <td>0.000000</td>\n",
       "    </tr>\n",
       "    <tr>\n",
       "      <th>4</th>\n",
       "      <td>2018</td>\n",
       "      <td>Öğrenci</td>\n",
       "      <td>1.25</td>\n",
       "      <td>0.000000</td>\n",
       "    </tr>\n",
       "    <tr>\n",
       "      <th>5</th>\n",
       "      <td>2018</td>\n",
       "      <td>Sosyal</td>\n",
       "      <td>1.85</td>\n",
       "      <td>0.000000</td>\n",
       "    </tr>\n",
       "    <tr>\n",
       "      <th>6</th>\n",
       "      <td>2019</td>\n",
       "      <td>Tam</td>\n",
       "      <td>3.50</td>\n",
       "      <td>34.615385</td>\n",
       "    </tr>\n",
       "    <tr>\n",
       "      <th>7</th>\n",
       "      <td>2019</td>\n",
       "      <td>Öğrenci</td>\n",
       "      <td>1.70</td>\n",
       "      <td>36.000000</td>\n",
       "    </tr>\n",
       "    <tr>\n",
       "      <th>8</th>\n",
       "      <td>2019</td>\n",
       "      <td>Sosyal</td>\n",
       "      <td>2.50</td>\n",
       "      <td>35.135135</td>\n",
       "    </tr>\n",
       "    <tr>\n",
       "      <th>9</th>\n",
       "      <td>2020</td>\n",
       "      <td>Tam</td>\n",
       "      <td>3.50</td>\n",
       "      <td>0.000000</td>\n",
       "    </tr>\n",
       "    <tr>\n",
       "      <th>10</th>\n",
       "      <td>2020</td>\n",
       "      <td>Öğrenci</td>\n",
       "      <td>1.70</td>\n",
       "      <td>0.000000</td>\n",
       "    </tr>\n",
       "    <tr>\n",
       "      <th>11</th>\n",
       "      <td>2020</td>\n",
       "      <td>Sosyal</td>\n",
       "      <td>2.50</td>\n",
       "      <td>0.000000</td>\n",
       "    </tr>\n",
       "    <tr>\n",
       "      <th>12</th>\n",
       "      <td>2021</td>\n",
       "      <td>Tam</td>\n",
       "      <td>3.50</td>\n",
       "      <td>0.000000</td>\n",
       "    </tr>\n",
       "    <tr>\n",
       "      <th>13</th>\n",
       "      <td>2021</td>\n",
       "      <td>Öğrenci</td>\n",
       "      <td>1.70</td>\n",
       "      <td>0.000000</td>\n",
       "    </tr>\n",
       "    <tr>\n",
       "      <th>14</th>\n",
       "      <td>2021</td>\n",
       "      <td>Sosyal</td>\n",
       "      <td>2.50</td>\n",
       "      <td>0.000000</td>\n",
       "    </tr>\n",
       "    <tr>\n",
       "      <th>15</th>\n",
       "      <td>2022</td>\n",
       "      <td>Tam</td>\n",
       "      <td>7.67</td>\n",
       "      <td>119.142857</td>\n",
       "    </tr>\n",
       "    <tr>\n",
       "      <th>16</th>\n",
       "      <td>2022</td>\n",
       "      <td>Öğrenci</td>\n",
       "      <td>3.74</td>\n",
       "      <td>120.000000</td>\n",
       "    </tr>\n",
       "    <tr>\n",
       "      <th>17</th>\n",
       "      <td>2022</td>\n",
       "      <td>Sosyal</td>\n",
       "      <td>5.49</td>\n",
       "      <td>119.600000</td>\n",
       "    </tr>\n",
       "  </tbody>\n",
       "</table>\n",
       "</div>"
      ],
      "text/plain": [
       "     yil bilet_adi  fiyati  artıs_oranı\n",
       "0   2017       Tam    2.60          NaN\n",
       "1   2017   Öğrenci    1.25          NaN\n",
       "2   2017    Sosyal    1.85          NaN\n",
       "3   2018       Tam    2.60     0.000000\n",
       "4   2018   Öğrenci    1.25     0.000000\n",
       "5   2018    Sosyal    1.85     0.000000\n",
       "6   2019       Tam    3.50    34.615385\n",
       "7   2019   Öğrenci    1.70    36.000000\n",
       "8   2019    Sosyal    2.50    35.135135\n",
       "9   2020       Tam    3.50     0.000000\n",
       "10  2020   Öğrenci    1.70     0.000000\n",
       "11  2020    Sosyal    2.50     0.000000\n",
       "12  2021       Tam    3.50     0.000000\n",
       "13  2021   Öğrenci    1.70     0.000000\n",
       "14  2021    Sosyal    2.50     0.000000\n",
       "15  2022       Tam    7.67   119.142857\n",
       "16  2022   Öğrenci    3.74   120.000000\n",
       "17  2022    Sosyal    5.49   119.600000"
      ]
     },
     "execution_count": 167,
     "metadata": {},
     "output_type": "execute_result"
    }
   ],
   "source": [
    "df = df.join((pd.DataFrame(((df[3:].append(df[-3:]).reset_index()).fiyati / df.fiyati -1) * 100).set_index(np.arange(3,21))).rename(columns = {\"fiyati\" : \"artıs_oranı\"}))\n",
    "df"
   ]
  },
  {
   "cell_type": "code",
   "execution_count": 227,
   "id": "f1e486b8",
   "metadata": {},
   "outputs": [
    {
     "data": {
      "image/png": "[encoded data removed]",
      "text/plain": [
       "<Figure size 1050x350 with 1 Axes>"
      ]
     },
     "metadata": {},
     "output_type": "display_data"
    }
   ],
   "source": [
    "plt.figure(figsize = (15,5))\n",
    "g = sns.lineplot(x = df.yil, y = df.artıs_oranı,\n",
    "                 marker = \"o\", markerfacecolor = \"purple\", markersize = 10)\n",
    "plt.ylabel(\"Yüzdelik Artış Oranı\");"
   ]
  },
  {
   "cell_type": "markdown",
   "id": "f85ee38a",
   "metadata": {},
   "source": [
    "**Görüldüğü üzere 2022 yılında bi önceki yıla zam oranı %120 seviyelerinde gezmiş**"
   ]
  }
 ],
 "metadata": {
  "kernelspec": {
   "display_name": "Python 3 (ipykernel)",
   "language": "python",
   "name": "python3"
  },
  "language_info": {
   "codemirror_mode": {
    "name": "ipython",
    "version": 3
   },
   "file_extension": ".py",
   "mimetype": "text/x-python",
   "name": "python",
   "nbconvert_exporter": "python",
   "pygments_lexer": "ipython3",
   "version": "3.10.6"
  }
 },
 "nbformat": 4,
 "nbformat_minor": 5
}
